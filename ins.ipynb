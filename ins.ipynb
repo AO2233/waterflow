{
 "cells": [
  {
   "cell_type": "code",
   "execution_count": 1,
   "metadata": {},
   "outputs": [],
   "source": [
    "import glob\n",
    "import os\n",
    "from tqdm import tqdm\n",
    "import cv2\n",
    "import tifffile as tf\n",
    "import torch\n",
    "\n",
    "\n",
    "project_p = \"/home/ao/Desktop/ieee/\"\n",
    "train_data_p = project_p + \"data/Track1/train/images/\"\n",
    "dev_data_p = project_p + \"data/dev/p1\"\n",
    "dev_data_pp = project_p + \"data/dev/p2\"\n",
    "\n",
    "img_1 = glob.glob(os.path.join(train_data_p, \"*.tif\"))\n",
    "img_2 = glob.glob(os.path.join(dev_data_p, \"*.tif\"))\n",
    "img_3 = glob.glob(os.path.join(dev_data_pp, \"*.tif\"))"
   ]
  },
  {
   "cell_type": "code",
   "execution_count": 2,
   "metadata": {},
   "outputs": [],
   "source": [
    "l = img_1 + img_2 + img_3"
   ]
  },
  {
   "cell_type": "code",
   "execution_count": 3,
   "metadata": {},
   "outputs": [],
   "source": [
    "# \"https://github.com/rwightman/pytorch-image-models/releases/download/v0.1-resnest/resnest269-0cc87c48.pth\" to /home/ao/.cache/torch/hub/checkpoints/resnest269-0cc87c48.pth"
   ]
  },
  {
   "cell_type": "code",
   "execution_count": 4,
   "metadata": {},
   "outputs": [
    {
     "data": {
      "text/plain": [
       "[{'name': 'channel1', 'data': [], 'min': [], 'max': [], 'mean': []},\n",
       " {'name': 'channel2', 'data': [], 'min': [], 'max': [], 'mean': []},\n",
       " {'name': 'channel3', 'data': [], 'min': [], 'max': [], 'mean': []},\n",
       " {'name': 'channel4', 'data': [], 'min': [], 'max': [], 'mean': []},\n",
       " {'name': 'channel5', 'data': [], 'min': [], 'max': [], 'mean': []},\n",
       " {'name': 'channel6', 'data': [], 'min': [], 'max': [], 'mean': []}]"
      ]
     },
     "execution_count": 4,
     "metadata": {},
     "output_type": "execute_result"
    }
   ],
   "source": [
    "ins = []\n",
    "for i in range(6):\n",
    "    c = {}\n",
    "    c[\"name\"] = f\"channel{i+1}\"\n",
    "    c[\"data\"] = []\n",
    "    c[\"min\"] = []\n",
    "    c[\"max\"] = []\n",
    "    c[\"mean\"] = []\n",
    "    ins.append(c)\n",
    "ins"
   ]
  },
  {
   "cell_type": "code",
   "execution_count": 5,
   "metadata": {},
   "outputs": [
    {
     "data": {
      "text/plain": [
       "[{'name': 'channel1', 'min': [], 'max': [], 'mean': []},\n",
       " {'name': 'channel2', 'min': [], 'max': [], 'mean': []},\n",
       " {'name': 'channel3', 'min': [], 'max': [], 'mean': []},\n",
       " {'name': 'channel4', 'min': [], 'max': [], 'mean': []},\n",
       " {'name': 'channel5', 'min': [], 'max': [], 'mean': []},\n",
       " {'name': 'channel6', 'min': [], 'max': [], 'mean': []}]"
      ]
     },
     "execution_count": 5,
     "metadata": {},
     "output_type": "execute_result"
    }
   ],
   "source": [
    "ins_fin = []\n",
    "for i in range(6):\n",
    "    c = {}\n",
    "    c[\"name\"] = f\"channel{i+1}\"\n",
    "    c[\"min\"] = []\n",
    "    c[\"max\"] = []\n",
    "    c[\"mean\"] = []\n",
    "    ins_fin.append(c)\n",
    "ins_fin"
   ]
  },
  {
   "cell_type": "code",
   "execution_count": 6,
   "metadata": {},
   "outputs": [
    {
     "name": "stderr",
     "output_type": "stream",
     "text": [
      "100%|██████████| 2331/2331 [00:05<00:00, 440.13it/s]\n"
     ]
    }
   ],
   "source": [
    "# i = l[0]\n",
    "for i in tqdm(l):\n",
    "    sar = tf.imread(i)\n",
    "    sar = torch.tensor(sar).permute(2, 0, 1)\n",
    "    for i in range(len(sar)):\n",
    "        t = sar[i]\n",
    "        ins[i][\"mean\"].append(t.to(float).mean().item())\n",
    "        ins[i][\"data\"].append(t)\n",
    "        ins[i][\"max\"].append(t.to(float).max().item())\n",
    "        ins[i][\"min\"].append(t.to(float).min().item())"
   ]
  },
  {
   "cell_type": "code",
   "execution_count": 7,
   "metadata": {},
   "outputs": [
    {
     "name": "stdout",
     "output_type": "stream",
     "text": [
      "max_c1 32765.0 max_c2 32765.0 max_c3 3343.0 max_c4 3310.0 max_c5 100.0 max_c6 255.0  \n",
      "min_c1 0.0 min_c2 0.0 min_c3 -9999.0 min_c4 -33.0 min_c5 0.0 min_c6 0.0  \n",
      "mean_c1 1774.172843321052 mean_c2 382.70600456948034 mean_c3 32.83576673379225 mean_c4 158.46333796412378 mean_c5 31.623006319089388 mean_c6 3.7178739697469863  \n",
      "std_c1 2797.2916273636556 std_c2 710.5693234469384 std_c3 1173.4579685284687 std_c4 342.08553456322215 std_c5 17.937904473111903 std_c6 17.983585131110953 "
     ]
    }
   ],
   "source": [
    "from statistics import mean\n",
    "\n",
    "for i in range(6):\n",
    "    print(f\"max_c{i+1}\", max(ins[i][\"max\"]), end=\" \")\n",
    "    ins_fin[i][\"max\"] = max(ins[i][\"max\"])\n",
    "print(\" \")\n",
    "\n",
    "for i in range(6):\n",
    "    print(f\"min_c{i+1}\", min(ins[i][\"min\"]), end=\" \")\n",
    "    ins_fin[i][\"min\"] = min(ins[i][\"min\"])\n",
    "print(\" \")\n",
    "\n",
    "for i in range(6):\n",
    "    print(f\"mean_c{i+1}\", mean(ins[i][\"mean\"]), end=\" \")\n",
    "    ins_fin[i][\"mean\"] = mean(ins[i][\"mean\"])\n",
    "print(\" \")\n",
    "\n",
    "for i in range(6):\n",
    "    ct = torch.cat(ins[i][\"data\"], dim=0).to(float)\n",
    "    p = ct.std().item()\n",
    "    ins_fin[i][\"std\"] = p\n",
    "    print(f\"std_c{i+1}\", p, end=\" \")"
   ]
  },
  {
   "cell_type": "code",
   "execution_count": 9,
   "metadata": {},
   "outputs": [
    {
     "data": {
      "text/plain": [
       "[{'name': 'channel1',\n",
       "  'min': 0.0,\n",
       "  'max': 32765.0,\n",
       "  'mean': 1774.172843321052,\n",
       "  'std': 2797.2916273636556},\n",
       " {'name': 'channel2',\n",
       "  'min': 0.0,\n",
       "  'max': 32765.0,\n",
       "  'mean': 382.70600456948034,\n",
       "  'std': 710.5693234469384},\n",
       " {'name': 'channel3',\n",
       "  'min': -9999.0,\n",
       "  'max': 3343.0,\n",
       "  'mean': 32.83576673379225,\n",
       "  'std': 1173.4579685284687},\n",
       " {'name': 'channel4',\n",
       "  'min': -33.0,\n",
       "  'max': 3310.0,\n",
       "  'mean': 158.46333796412378,\n",
       "  'std': 342.08553456322215},\n",
       " {'name': 'channel5',\n",
       "  'min': 0.0,\n",
       "  'max': 100.0,\n",
       "  'mean': 31.623006319089388,\n",
       "  'std': 17.937904473111903},\n",
       " {'name': 'channel6',\n",
       "  'min': 0.0,\n",
       "  'max': 255.0,\n",
       "  'mean': 3.7178739697469863,\n",
       "  'std': 17.983585131110953}]"
      ]
     },
     "execution_count": 9,
     "metadata": {},
     "output_type": "execute_result"
    }
   ],
   "source": [
    "import gc\n",
    "\n",
    "del ins, ct\n",
    "gc.collect()\n",
    "ins_fin"
   ]
  },
  {
   "cell_type": "code",
   "execution_count": 10,
   "metadata": {},
   "outputs": [],
   "source": [
    "import pickle\n",
    "\n",
    "f = open(\"ins.pkl\", \"wb\")\n",
    "pickle.dump(ins_fin, f)"
   ]
  },
  {
   "cell_type": "code",
   "execution_count": 17,
   "metadata": {},
   "outputs": [
    {
     "data": {
      "text/plain": [
       "{'name': 'channel2',\n",
       " 'min': 0.0,\n",
       " 'max': 32765.0,\n",
       " 'mean': 382.70600456948034,\n",
       " 'std': 710.5693234469384}"
      ]
     },
     "execution_count": 17,
     "metadata": {},
     "output_type": "execute_result"
    }
   ],
   "source": [
    "ins_fin[1]"
   ]
  },
  {
   "cell_type": "code",
   "execution_count": 3,
   "metadata": {},
   "outputs": [],
   "source": [
    "s = [\n",
    "    {\"min\": 0.0, \"max\": 32765.0, \"mean\": 1774.172843321052, \"std\": 2797.2916273636556},\n",
    "    {\"min\": 0.0, \"max\": 32765.0, \"mean\": 382.70600456948034, \"std\": 710.5693234469384},\n",
    "    {\n",
    "        \"min\": -9999.0,\n",
    "        \"max\": 3343.0,\n",
    "        \"mean\": 32.83576673379225,\n",
    "        \"std\": 1173.4579685284687,\n",
    "    },\n",
    "    {\n",
    "        \"min\": -33.0,\n",
    "        \"max\": 3310.0,\n",
    "        \"mean\": 158.46333796412378,\n",
    "        \"std\": 342.08553456322215,\n",
    "    },\n",
    "    {\"min\": 0.0, \"max\": 100.0, \"mean\": 31.623006319089388, \"std\": 17.937904473111903},\n",
    "    {\"min\": 0.0, \"max\": 255.0, \"mean\": 3.7178739697469863, \"std\": 17.983585131110953},\n",
    "]"
   ]
  },
  {
   "cell_type": "code",
   "execution_count": 4,
   "metadata": {},
   "outputs": [
    {
     "data": {
      "text/plain": [
       "[{'min': 0.0,\n",
       "  'max': 32765.0,\n",
       "  'mean': 1774.172843321052,\n",
       "  'std': 2797.2916273636556},\n",
       " {'min': 0.0,\n",
       "  'max': 32765.0,\n",
       "  'mean': 382.70600456948034,\n",
       "  'std': 710.5693234469384},\n",
       " {'min': -9999.0,\n",
       "  'max': 3343.0,\n",
       "  'mean': 32.83576673379225,\n",
       "  'std': 1173.4579685284687},\n",
       " {'min': -33.0,\n",
       "  'max': 3310.0,\n",
       "  'mean': 158.46333796412378,\n",
       "  'std': 342.08553456322215},\n",
       " {'min': 0.0,\n",
       "  'max': 100.0,\n",
       "  'mean': 31.623006319089388,\n",
       "  'std': 17.937904473111903},\n",
       " {'min': 0.0,\n",
       "  'max': 255.0,\n",
       "  'mean': 3.7178739697469863,\n",
       "  'std': 17.983585131110953}]"
      ]
     },
     "execution_count": 4,
     "metadata": {},
     "output_type": "execute_result"
    }
   ],
   "source": [
    "s"
   ]
  },
  {
   "cell_type": "code",
   "execution_count": 8,
   "metadata": {},
   "outputs": [
    {
     "name": "stdout",
     "output_type": "stream",
     "text": [
      "1774.172843321052, 382.70600456948034, 32.83576673379225, 158.46333796412378, 31.623006319089388, 3.7178739697469863, "
     ]
    }
   ],
   "source": [
    "for i in range(len(s)):\n",
    "    print(s[i][\"mean\"], end=\", \")"
   ]
  },
  {
   "cell_type": "code",
   "execution_count": null,
   "metadata": {},
   "outputs": [],
   "source": []
  }
 ],
 "metadata": {
  "kernelspec": {
   "display_name": "kaggle",
   "language": "python",
   "name": "python3"
  },
  "language_info": {
   "codemirror_mode": {
    "name": "ipython",
    "version": 3
   },
   "file_extension": ".py",
   "mimetype": "text/x-python",
   "name": "python",
   "nbconvert_exporter": "python",
   "pygments_lexer": "ipython3",
   "version": "3.10.13"
  }
 },
 "nbformat": 4,
 "nbformat_minor": 2
}
