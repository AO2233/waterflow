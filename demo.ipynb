{
 "cells": [
  {
   "cell_type": "code",
   "execution_count": null,
   "metadata": {},
   "outputs": [],
   "source": [
    "import torch\n",
    "import glob\n",
    "import os\n",
    "\n",
    "from model import SARModel\n",
    "from dataset import SARdataset\n",
    "import albumentations as A\n",
    "\n",
    "import lightning as L\n",
    "import os\n",
    "import glob\n",
    "\n",
    "from model import SARModel\n",
    "from torch.utils.data import DataLoader\n",
    "import numpy as np\n",
    "from tqdm import tqdm\n",
    "import cv2\n",
    "\n",
    "\n",
    "project_p = \"/home/ao/Desktop/ieee/\"\n",
    "train_data_p = project_p + \"data/Track1/train/images/\"\n",
    "train_label_p = project_p + \"data/Track1/train/labels/\"\n",
    "test_data_p = project_p + \"data/Track1/val/images/\"\n",
    "\n",
    "dev_data_p = project_p + \"data/dev/p1\"\n",
    "\n",
    "batch_size = 8\n",
    "\n",
    "if __name__ == \"__main__\":\n",
    "    # img_l = glob.glob(os.path.join(train_data_p, '*.tif'))\n",
    "    img_l = glob.glob(os.path.join(dev_data_p, \"*.tif\"))\n",
    "    # label_l = glob.glob(os.path.join(train_label_p, '*.png'))\n",
    "    img_l.sort()"
   ]
  },
  {
   "cell_type": "code",
   "execution_count": null,
   "metadata": {},
   "outputs": [],
   "source": [
    "# ! rm -f sub.zip\n",
    "# ! rm -f /home/ao/Desktop/ieee/rubbish/sub/*\n",
    "# # ! mv \"*_msk.png\" sub\n",
    "# ! mv *.png sub"
   ]
  },
  {
   "cell_type": "code",
   "execution_count": 2,
   "metadata": {},
   "outputs": [],
   "source": [
    "from tool import *\n",
    "\n",
    "# show_tiff_id(0, img_l, power=True)"
   ]
  },
  {
   "cell_type": "code",
   "execution_count": null,
   "metadata": {},
   "outputs": [],
   "source": [
    "# check_sub()\n",
    "# show_label(t)"
   ]
  },
  {
   "cell_type": "code",
   "execution_count": null,
   "metadata": {},
   "outputs": [],
   "source": [
    "label = cv2.imread('/home/ao/Desktop/ieee/data/Track1/train/labels/1005.png')\n",
    "show_label(label)"
   ]
  },
  {
   "cell_type": "code",
   "execution_count": 3,
   "metadata": {},
   "outputs": [
    {
     "data": {
      "text/plain": [
       "(tensor([[0., 0., 0.],\n",
       "         [0., 0., 0.],\n",
       "         [0., 0., 0.]]),\n",
       " tensor([[1., 1., 1.],\n",
       "         [1., 1., 1.],\n",
       "         [1., 1., 1.]]))"
      ]
     },
     "execution_count": 3,
     "metadata": {},
     "output_type": "execute_result"
    }
   ],
   "source": [
    "ss=torch.zeros(3,3)\n",
    "pp=torch.ones(3, 3)\n",
    "ss,pp"
   ]
  },
  {
   "cell_type": "code",
   "execution_count": 5,
   "metadata": {},
   "outputs": [
    {
     "data": {
      "text/plain": [
       "tensor(1.)"
      ]
     },
     "execution_count": 5,
     "metadata": {},
     "output_type": "execute_result"
    }
   ],
   "source": [
    "f1_func(ss,ss)"
   ]
  }
 ],
 "metadata": {
  "kernelspec": {
   "display_name": "kaggle",
   "language": "python",
   "name": "python3"
  },
  "language_info": {
   "codemirror_mode": {
    "name": "ipython",
    "version": 3
   },
   "file_extension": ".py",
   "mimetype": "text/x-python",
   "name": "python",
   "nbconvert_exporter": "python",
   "pygments_lexer": "ipython3",
   "version": "3.10.6"
  }
 },
 "nbformat": 4,
 "nbformat_minor": 2
}
